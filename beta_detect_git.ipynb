{
 "cells": [
  {
   "cell_type": "code",
   "execution_count": 1,
   "metadata": {
    "ExecuteTime": {
     "end_time": "2020-01-09T03:01:07.356059Z",
     "start_time": "2020-01-09T03:01:05.884440Z"
    }
   },
   "outputs": [],
   "source": [
    "import pandas as pd\n",
    "import numpy as np\n",
    "from scipy.stats import beta\n",
    "import math\n",
    "import random\n",
    "import copy\n",
    "from itertools import chain"
   ]
  },
  {
   "cell_type": "code",
   "execution_count": 2,
   "metadata": {
    "ExecuteTime": {
     "end_time": "2020-01-09T03:01:09.558227Z",
     "start_time": "2020-01-09T03:01:09.535408Z"
    }
   },
   "outputs": [
    {
     "data": {
      "text/plain": [
       "'/Users/jasonch/mycode/school/Beta'"
      ]
     },
     "execution_count": 2,
     "metadata": {},
     "output_type": "execute_result"
    }
   ],
   "source": [
    "import os\n",
    "\n",
    "os.getcwd()"
   ]
  },
  {
   "cell_type": "markdown",
   "metadata": {},
   "source": [
    "# Data"
   ]
  },
  {
   "cell_type": "code",
   "execution_count": 3,
   "metadata": {
    "ExecuteTime": {
     "end_time": "2020-01-09T03:01:12.538594Z",
     "start_time": "2020-01-09T03:01:12.495964Z"
    },
    "scrolled": false
   },
   "outputs": [
    {
     "data": {
      "text/html": [
       "<div>\n",
       "<style scoped>\n",
       "    .dataframe tbody tr th:only-of-type {\n",
       "        vertical-align: middle;\n",
       "    }\n",
       "\n",
       "    .dataframe tbody tr th {\n",
       "        vertical-align: top;\n",
       "    }\n",
       "\n",
       "    .dataframe thead th {\n",
       "        text-align: right;\n",
       "    }\n",
       "</style>\n",
       "<table border=\"1\" class=\"dataframe\">\n",
       "  <thead>\n",
       "    <tr style=\"text-align: right;\">\n",
       "      <th></th>\n",
       "      <th>r1</th>\n",
       "      <th>r2</th>\n",
       "      <th>r3</th>\n",
       "      <th>r4</th>\n",
       "      <th>r5</th>\n",
       "    </tr>\n",
       "    <tr>\n",
       "      <th>movie_id</th>\n",
       "      <th></th>\n",
       "      <th></th>\n",
       "      <th></th>\n",
       "      <th></th>\n",
       "      <th></th>\n",
       "    </tr>\n",
       "  </thead>\n",
       "  <tbody>\n",
       "    <tr>\n",
       "      <th>1678</th>\n",
       "      <td>1.0</td>\n",
       "      <td>0.0</td>\n",
       "      <td>0.0</td>\n",
       "      <td>0.0</td>\n",
       "      <td>0.0</td>\n",
       "    </tr>\n",
       "    <tr>\n",
       "      <th>1679</th>\n",
       "      <td>0.0</td>\n",
       "      <td>0.0</td>\n",
       "      <td>1.0</td>\n",
       "      <td>0.0</td>\n",
       "      <td>0.0</td>\n",
       "    </tr>\n",
       "    <tr>\n",
       "      <th>1680</th>\n",
       "      <td>0.0</td>\n",
       "      <td>1.0</td>\n",
       "      <td>0.0</td>\n",
       "      <td>0.0</td>\n",
       "      <td>0.0</td>\n",
       "    </tr>\n",
       "    <tr>\n",
       "      <th>1681</th>\n",
       "      <td>0.0</td>\n",
       "      <td>0.0</td>\n",
       "      <td>1.0</td>\n",
       "      <td>0.0</td>\n",
       "      <td>0.0</td>\n",
       "    </tr>\n",
       "    <tr>\n",
       "      <th>1682</th>\n",
       "      <td>0.0</td>\n",
       "      <td>0.0</td>\n",
       "      <td>1.0</td>\n",
       "      <td>0.0</td>\n",
       "      <td>0.0</td>\n",
       "    </tr>\n",
       "  </tbody>\n",
       "</table>\n",
       "</div>"
      ],
      "text/plain": [
       "           r1   r2   r3   r4   r5\n",
       "movie_id                         \n",
       "1678      1.0  0.0  0.0  0.0  0.0\n",
       "1679      0.0  0.0  1.0  0.0  0.0\n",
       "1680      0.0  1.0  0.0  0.0  0.0\n",
       "1681      0.0  0.0  1.0  0.0  0.0\n",
       "1682      0.0  0.0  1.0  0.0  0.0"
      ]
     },
     "execution_count": 3,
     "metadata": {},
     "output_type": "execute_result"
    }
   ],
   "source": [
    "df = pd.read_csv('./Data/movielen_100k.csv', header = 0, index_col = 'movie_id')\n",
    "df = df.fillna(0)\n",
    "#df.head()\n",
    "df.tail()"
   ]
  },
  {
   "cell_type": "code",
   "execution_count": 4,
   "metadata": {
    "ExecuteTime": {
     "end_time": "2020-01-09T03:01:15.014981Z",
     "start_time": "2020-01-09T03:01:14.968065Z"
    },
    "scrolled": false
   },
   "outputs": [
    {
     "data": {
      "text/html": [
       "<div>\n",
       "<style scoped>\n",
       "    .dataframe tbody tr th:only-of-type {\n",
       "        vertical-align: middle;\n",
       "    }\n",
       "\n",
       "    .dataframe tbody tr th {\n",
       "        vertical-align: top;\n",
       "    }\n",
       "\n",
       "    .dataframe thead th {\n",
       "        text-align: right;\n",
       "    }\n",
       "</style>\n",
       "<table border=\"1\" class=\"dataframe\">\n",
       "  <thead>\n",
       "    <tr style=\"text-align: right;\">\n",
       "      <th></th>\n",
       "      <th>r1</th>\n",
       "      <th>r2</th>\n",
       "      <th>r3</th>\n",
       "      <th>r4</th>\n",
       "      <th>r5</th>\n",
       "      <th>source_round_avgr</th>\n",
       "    </tr>\n",
       "    <tr>\n",
       "      <th>movie_id</th>\n",
       "      <th></th>\n",
       "      <th></th>\n",
       "      <th></th>\n",
       "      <th></th>\n",
       "      <th></th>\n",
       "      <th></th>\n",
       "    </tr>\n",
       "  </thead>\n",
       "  <tbody>\n",
       "    <tr>\n",
       "      <th>1</th>\n",
       "      <td>8.0</td>\n",
       "      <td>27.0</td>\n",
       "      <td>96.0</td>\n",
       "      <td>202.0</td>\n",
       "      <td>119.0</td>\n",
       "      <td>4.0</td>\n",
       "    </tr>\n",
       "    <tr>\n",
       "      <th>2</th>\n",
       "      <td>8.0</td>\n",
       "      <td>17.0</td>\n",
       "      <td>55.0</td>\n",
       "      <td>42.0</td>\n",
       "      <td>9.0</td>\n",
       "      <td>3.0</td>\n",
       "    </tr>\n",
       "    <tr>\n",
       "      <th>3</th>\n",
       "      <td>11.0</td>\n",
       "      <td>20.0</td>\n",
       "      <td>25.0</td>\n",
       "      <td>23.0</td>\n",
       "      <td>11.0</td>\n",
       "      <td>3.0</td>\n",
       "    </tr>\n",
       "    <tr>\n",
       "      <th>4</th>\n",
       "      <td>6.0</td>\n",
       "      <td>24.0</td>\n",
       "      <td>57.0</td>\n",
       "      <td>93.0</td>\n",
       "      <td>29.0</td>\n",
       "      <td>4.0</td>\n",
       "    </tr>\n",
       "    <tr>\n",
       "      <th>5</th>\n",
       "      <td>4.0</td>\n",
       "      <td>11.0</td>\n",
       "      <td>32.0</td>\n",
       "      <td>33.0</td>\n",
       "      <td>6.0</td>\n",
       "      <td>3.0</td>\n",
       "    </tr>\n",
       "  </tbody>\n",
       "</table>\n",
       "</div>"
      ],
      "text/plain": [
       "            r1    r2    r3     r4     r5  source_round_avgr\n",
       "movie_id                                                   \n",
       "1          8.0  27.0  96.0  202.0  119.0                4.0\n",
       "2          8.0  17.0  55.0   42.0    9.0                3.0\n",
       "3         11.0  20.0  25.0   23.0   11.0                3.0\n",
       "4          6.0  24.0  57.0   93.0   29.0                4.0\n",
       "5          4.0  11.0  32.0   33.0    6.0                3.0"
      ]
     },
     "execution_count": 4,
     "metadata": {},
     "output_type": "execute_result"
    }
   ],
   "source": [
    "df['source_round_avgr'] = round((df['r1'] * 1 + df['r2'] * 2 + df['r3'] * 3 + df['r4'] * 4 + df['r5'] * 5) / (df['r1'] + df['r2'] + df['r3'] + df['r4'] + df['r5']))\n",
    "df.head()\n",
    "#df.tail()"
   ]
  },
  {
   "cell_type": "code",
   "execution_count": 5,
   "metadata": {
    "ExecuteTime": {
     "end_time": "2020-01-09T03:01:16.766526Z",
     "start_time": "2020-01-09T03:01:16.758035Z"
    }
   },
   "outputs": [
    {
     "data": {
      "text/plain": [
       "1682"
      ]
     },
     "execution_count": 5,
     "metadata": {},
     "output_type": "execute_result"
    }
   ],
   "source": [
    "len(df)"
   ]
  },
  {
   "cell_type": "markdown",
   "metadata": {},
   "source": [
    "# Define Function"
   ]
  },
  {
   "cell_type": "code",
   "execution_count": 5,
   "metadata": {
    "ExecuteTime": {
     "end_time": "2020-01-07T09:34:42.972595Z",
     "start_time": "2020-01-07T09:34:42.967713Z"
    }
   },
   "outputs": [],
   "source": [
    "# attacked item\n",
    "def atted(numb, totalitems):\n",
    "    atteditem = []\n",
    "\n",
    "    for i in range(numb):\n",
    "        atteditem.append(random.choice([x for x in range(1, totalitems + 1) if x not in atteditem]))\n",
    "    \n",
    "    return atteditem"
   ]
  },
  {
   "cell_type": "code",
   "execution_count": 6,
   "metadata": {
    "ExecuteTime": {
     "end_time": "2020-01-07T09:34:43.448454Z",
     "start_time": "2020-01-07T09:34:43.439669Z"
    }
   },
   "outputs": [],
   "source": [
    "# fill items\n",
    "def filler(fill_size, fa, totalitems, atteditem):\n",
    "    fillitem = []\n",
    "        \n",
    "    for j in range(fill_size * fa):\n",
    "        fillitem.append(random.choice([x for x in range(1, totalitems + 1) if x not in chain(atteditem, fillitem)]))\n",
    "        \n",
    "    return fillitem"
   ]
  },
  {
   "cell_type": "code",
   "execution_count": 7,
   "metadata": {
    "ExecuteTime": {
     "end_time": "2020-01-07T09:34:43.933343Z",
     "start_time": "2020-01-07T09:34:43.923609Z"
    }
   },
   "outputs": [],
   "source": [
    "# inject data\n",
    "def filldata(df, atteditem, fillitem):\n",
    "    for m in atteditem:\n",
    "        df.loc[m, 'r5'] += 1    # push\n",
    "        #df.loc[m, 'r1'] += 1     # nuke\n",
    "    \n",
    "    for n in fillitem:\n",
    "        if df.loc[n, 'source_round_avgr'] == 5:\n",
    "            df.loc[n, 'r5'] += 1\n",
    "        elif df.loc[n, 'source_round_avgr'] == 4:\n",
    "            df.loc[n, 'r4'] += 1\n",
    "        elif df.loc[n, 'source_round_avgr'] == 3:\n",
    "            df.loc[n, 'r3'] += 1\n",
    "        elif df.loc[n, 'source_round_avgr'] == 2:\n",
    "            df.loc[n, 'r2'] += 1\n",
    "        else:\n",
    "            df.loc[n, 'r1'] += 1\n",
    "    \n",
    "    return df"
   ]
  },
  {
   "cell_type": "code",
   "execution_count": 8,
   "metadata": {
    "ExecuteTime": {
     "end_time": "2020-01-07T09:34:44.492040Z",
     "start_time": "2020-01-07T09:34:44.475915Z"
    }
   },
   "outputs": [],
   "source": [
    "def calsum(df):\n",
    "    df['sum'] = df['r1'] + df['r2'] + df['r3'] + df['r4'] + df['r5']\n",
    "    df['avgr'] = (df['r1'] * 1 + df['r2'] * 2 + df['r3'] * 3 + df['r4'] * 4 + df['r5'] * 5) / (df['r1'] + df['r2'] + df['r3'] + df['r4'] + df['r5'])\n",
    "    df['round_avgr'] = round(df['avgr'])\n",
    "    df['std'] =  (((df['r1'] * ((1 - df['avgr']) ** 2)) + (df['r2'] * ((2 - df['avgr']) ** 2)) + (df['r3'] * ((3 - df['avgr']) ** 2)) + (df['r4'] * ((4 - df['avgr']) ** 2)) + (df['r5'] * ((5 - df['avgr']) ** 2))) / df['sum']) ** 0.5\n",
    "    df['std'] = df['std'].fillna(0)\n",
    "\n",
    "    df.loc['every_col_sum'] = df.apply(lambda x: x.sum())\n",
    "    \n",
    "    df.at['every_col_sum', 'avgr'] = (df.at['every_col_sum', 'r1'] * 1 + df.at['every_col_sum', 'r2'] * 2 + df.at['every_col_sum', 'r3'] * 3 + df.at['every_col_sum', 'r4'] * 4 + df.at['every_col_sum', 'r5'] * 5) / (df.at['every_col_sum', 'r1'] + df.at['every_col_sum', 'r2'] + df.at['every_col_sum', 'r3'] + df.at['every_col_sum', 'r4'] + df.at['every_col_sum', 'r5'])\n",
    "    df.at['every_col_sum', 'round_avgr'] = round(df.at['every_col_sum', 'avgr'])\n",
    "    df.at['every_col_sum', 'std'] =  (((df.at['every_col_sum', 'r1'] * ((1 - df.at['every_col_sum', 'avgr']) ** 2)) + (df.at['every_col_sum', 'r2'] * ((2 - df.at['every_col_sum', 'avgr']) ** 2)) + (df.at['every_col_sum', 'r3'] * ((3 - df.at['every_col_sum', 'avgr']) ** 2)) + (df.at['every_col_sum', 'r4'] * ((4 - df.at['every_col_sum', 'avgr']) ** 2)) + (df.at['every_col_sum', 'r5'] * ((5 - df.at['every_col_sum', 'avgr']) ** 2))) / (df.at['every_col_sum', 'r1'] + df.at['every_col_sum', 'r2'] + df.at['every_col_sum', 'r3'] + df.at['every_col_sum', 'r4'] + df.at['every_col_sum', 'r5'])) ** 0.5    \n",
    "    \n",
    "    return df"
   ]
  },
  {
   "cell_type": "code",
   "execution_count": 9,
   "metadata": {
    "ExecuteTime": {
     "end_time": "2020-01-07T09:34:45.084580Z",
     "start_time": "2020-01-07T09:34:45.061143Z"
    }
   },
   "outputs": [],
   "source": [
    "# Five Methods\n",
    "def five_method(df, quant):\n",
    "    \n",
    "    df_five = pd.DataFrame(columns = ['LB1', 'UB1', 'E1', 'LB2', 'UB2', 'E2', 'LB3', 'UB3', 'E3', 'LB4', 'UB4', 'E4', 'LB5', 'UB5', 'E5'], index = df.index)\n",
    "    \n",
    "    #[1,2,3,4,5]\n",
    "    df_five['LB1'] = beta.ppf(quant, df['r3'] + df['r4'] + df['r5'] + 1, df['r1'] + df['r2'] + df['r3'] + 1)\n",
    "    df_five['UB1'] = beta.ppf(1 - quant, df['r3'] + df['r4'] + df['r5']  + 1, df['r1'] + df['r2'] + df['r3'] + 1)\n",
    "    df_five['E1'] = (df.at['every_col_sum', 'r3'] + df.at['every_col_sum', 'r4'] + df.at['every_col_sum', 'r5'] + 1) / (df.at['every_col_sum', 'r3'] + df.at['every_col_sum', 'r4'] + df.at['every_col_sum', 'r5'] + df.at['every_col_sum', 'r3'] + df.at['every_col_sum', 'r2'] + df.at['every_col_sum', 'r1'] + 2) \n",
    "\n",
    "    #[3, 4, 5]\n",
    "    df_five['LB2'] = beta.ppf(quant, df['r4'] + df['r5'] + 1, df['r3'] + df['r4']+ 1)\n",
    "    df_five['UB2'] = beta.ppf(1 - quant, df['r4'] + df['r5'] + 1, df['r3'] + df['r4'] + 1)\n",
    "    df_five['E2'] = (df.at['every_col_sum', 'r4'] + df.at['every_col_sum', 'r5'] + 1) / (df.at['every_col_sum', 'r4'] + df.at['every_col_sum', 'r5'] + df.at['every_col_sum', 'r3'] + df.at['every_col_sum', 'r4'] + 2) \n",
    "\n",
    "    #[1, 2, 3,]\n",
    "    df_five['LB3'] = beta.ppf(quant, df['r2'] + df['r3'] + 1, df['r1'] + df['r2'] + 1)\n",
    "    df_five['UB3'] = beta.ppf(1 - quant, df['r2'] + df['r3'] + 1, df['r1'] + df['r2'] + 1)\n",
    "    df_five['E3'] = (df.at['every_col_sum', 'r2'] + df.at['every_col_sum', 'r3'] + 1) / (df.at['every_col_sum', 'r2'] + df.at['every_col_sum', 'r3'] + df.at['every_col_sum', 'r1'] + df.at['every_col_sum', 'r2'] + 2) \n",
    "\n",
    "    #[2, 3, 4]\n",
    "    df_five['LB4'] = beta.ppf(quant, df['r3'] + df['r4'] + 1, df['r2'] + df['r3'] + 1)\n",
    "    df_five['UB4'] = beta.ppf(1 - quant, df['r3'] + df['r4'] + 1, df['r2'] + df['r3'] + 1)\n",
    "    df_five['E4'] = (df.at['every_col_sum', 'r3'] + df.at['every_col_sum', 'r4'] + 1) / (df.at['every_col_sum', 'r3'] + df.at['every_col_sum', 'r4'] + df.at['every_col_sum', 'r2'] + df.at['every_col_sum', 'r3'] + 2) \n",
    "\n",
    "    #[1, 3, 5]\n",
    "    df_five['LB5'] = beta.ppf(quant, df['r3'] + df['r5'] + 1, df['r1'] + df['r3'] + 1)\n",
    "    df_five['UB5'] = beta.ppf(1 - quant, df['r3'] + df['r5'] + 1, df['r1'] + df['r3'] + 1)\n",
    "    df_five['E5'] = (df.at['every_col_sum', 'r3'] + df.at['every_col_sum', 'r5'] + 1) / (df.at['every_col_sum', 'r3'] + df.at['every_col_sum', 'r5'] + df.at['every_col_sum', 'r1'] + df.at['every_col_sum', 'r3'] + 2) \n",
    "  \n",
    "    df_five['ct'] = 0\n",
    "    \n",
    "    df_five = df_five[:-1]\n",
    "    \n",
    "    return df_five"
   ]
  },
  {
   "cell_type": "code",
   "execution_count": 10,
   "metadata": {
    "ExecuteTime": {
     "end_time": "2020-01-07T09:34:45.670118Z",
     "start_time": "2020-01-07T09:34:45.659157Z"
    }
   },
   "outputs": [],
   "source": [
    "# Detect\n",
    "def detect_att(df, totalitems):\n",
    "    for u in range(1, totalitems + 1):\n",
    "        if (df.loc[u, 'E1'] < df.loc[u, 'LB1']) | (df.loc[u, 'E1'] > df.loc[u, 'UB1']):\n",
    "            df.loc[u, 'ct'] += 1\n",
    "\n",
    "        if (df.loc[u, 'E2'] < df.loc[u, 'LB2']) | (df.loc[u, 'E2'] > df.loc[u, 'UB2']):\n",
    "            df.loc[u, 'ct'] += 1\n",
    "    \n",
    "        if (df.loc[u, 'E3'] < df.loc[u, 'LB3']) | (df.loc[u, 'E3'] > df.loc[u, 'UB3']):\n",
    "            df.loc[u, 'ct'] += 1\n",
    "    \n",
    "        if (df.loc[u, 'E4'] < df.loc[u, 'LB4']) | (df.loc[u, 'E4'] > df.loc[u, 'UB4']):\n",
    "            df.loc[u, 'ct'] += 1\n",
    "    \n",
    "        if (df.loc[u, 'E5'] < df.loc[u, 'LB5']) | (df.loc[u, 'E5'] > df.loc[u, 'UB5']):\n",
    "            df.loc[u, 'ct'] += 1  \n",
    "\n",
    "    return df"
   ]
  },
  {
   "cell_type": "code",
   "execution_count": null,
   "metadata": {},
   "outputs": [],
   "source": []
  },
  {
   "cell_type": "markdown",
   "metadata": {},
   "source": [
    "# Run"
   ]
  },
  {
   "cell_type": "code",
   "execution_count": 14,
   "metadata": {
    "ExecuteTime": {
     "end_time": "2020-01-07T09:34:50.322996Z",
     "start_time": "2020-01-07T09:34:50.314868Z"
    }
   },
   "outputs": [],
   "source": [
    "users = 943\n",
    "totalitems = 1682\n",
    "\n",
    "#for attack size\n",
    "ats = round(users * 0.01)\n",
    "\n",
    "#for fill size & attack item\n",
    "fa = round(totalitems * 0.01)\n",
    "\n",
    "beta_threshold = 3"
   ]
  },
  {
   "cell_type": "code",
   "execution_count": null,
   "metadata": {
    "ExecuteTime": {
     "end_time": "2020-01-07T09:35:36.447857Z",
     "start_time": "2020-01-07T09:35:03.658004Z"
    }
   },
   "outputs": [],
   "source": [
    "print('beta_threshold = ' + str(beta_threshold))\n",
    "print('Programs Start....')\n",
    "\n",
    "quants = [0.003]\n",
    "numbs = [1]\n",
    "attack_sizes = [1, 2, 3, 4, 5, 6, 7, 8, 9, 10]\n",
    "fill_sizes = [2, 3, 4, 5, 6, 7, 8, 9, 10, 11, 12]\n",
    "\n",
    "\n",
    "for quant in quants:\n",
    "    for numb in numbs:\n",
    "        for attack_size in attack_sizes:\n",
    "            for fill_size in fill_sizes:\n",
    "                detrlist = []\n",
    "                falslist = []\n",
    "                accylist = []\n",
    "                perlist = []       \n",
    "                recalllist = []         \n",
    "                fscorelist = []\n",
    "    \n",
    "                xbdetrlist = []\n",
    "                xbfalslist = []\n",
    "                xbaccylist = []\n",
    "                xbperlist = []\n",
    "                xbrecalllist = []  \n",
    "                xbfscorelist = [] \n",
    "        \n",
    "                for y in range(10):\n",
    "                    #初始值\n",
    "                    dfused = pd.DataFrame()\n",
    "                    atteditem = []\n",
    "                    allfill = []\n",
    "                    dfsum = pd.DataFrame()\n",
    "                    xbar_df = pd.DataFrame()\n",
    "                    dfok = pd.DataFrame()\n",
    "                    dffive = pd.DataFrame()\n",
    "                    beta_count = pd.DataFrame()\n",
    "                    xbard = pd.DataFrame()\n",
    "                    xb_count = pd.DataFrame()\n",
    "\n",
    "        \n",
    "                    # Run\n",
    "                    dfused = copy.deepcopy(df)\n",
    "                    atteditems = atted(numb, totalitems)\n",
    "    \n",
    "                    k = 0\n",
    "                    for k in range(attack_size * ats):\n",
    "                        fillitems = []\n",
    "                        fillitems = filler(fill_size, fa, totalitems, atteditems)\n",
    "                        dfused = filldata(dfused, atteditems, fillitems)\n",
    "\n",
    "                        #allfill.append(fillitems) \n",
    "    \n",
    "\n",
    "                    dfsum = calsum(dfused)\n",
    "                    xbar_df = copy.deepcopy(dfsum)\n",
    "\n",
    "                    dffive = five_method(dfsum, quant)\n",
    "                    beta_count = detect_att(dffive, totalitems)\n",
    "\n",
    "                    xbard, Uxbar, Lxbar = xbar(xbar_df, totalitems)\n",
    "                    xb_count = xbar_detect_att(xbard, Uxbar, Lxbar)\n",
    "\n",
    "                    \n",
    "                    ## beta ##\n",
    "                    #detect rate\n",
    "                    detr = len(beta_count.loc[atteditems][(beta_count.loc[atteditems, 'ct'] >= beta_threshold) == True]) / len(atteditems)\n",
    "                    detrlist.append(detr)\n",
    "          \n",
    "                    #false rate\n",
    "                    ffliter = []\n",
    "                    for y in beta_count[(beta_count['ct'] >= beta_threshold) == True].index:\n",
    "                        if y not in beta_count.loc[atteditems].index:\n",
    "                            ffliter.append(y) \n",
    "\n",
    "                    fals = len(ffliter) / totalitems\n",
    "                    falslist.append(fals)\n",
    "        \n",
    "    \n",
    "                    ## write to csv ##\n",
    "                    cont = {'Quanti' : quant, 'Attack Item' : str(numb) + 'items', 'Attack Size %' : attack_size, 'Fill Size %' : fill_size, 'Detect' : [len(beta_count[(beta_count['ct'] >= beta_threshold) == True])], 'Hit True #':len(beta_count.loc[atteditems][(beta_count.loc[atteditems]['ct'] >= beta_threshold) == True]), 'beta' : 'beta', 'Detec Rate %' : round(detr * 100, 2), 'False Rate %' : round(fals * 100, 2)}\n",
    "                    contet = pd.DataFrame(cont)\n",
    "    \n",
    "                    if not os.path.isfile('./result/cont.csv'):\n",
    "                        contet.to_csv('./result/cont.csv', index = False)\n",
    "                    else:\n",
    "                        contet.to_csv('./result/cont.csv', mode = 'a', header = False, index = False)\n",
    "    \n",
    "    \n",
    "    \n",
    "                 ## write to csv ##\n",
    "                dff = {'beta_threshold' : beta_threshold, 'Quanti' : quant, 'Attack Item' : str(numb) + 'items', 'Attack Size %' : attack_size, 'Fill Size %' : fill_size, 'beta' : 'beta', 'Detect Rate %' : round(np.mean(detrlist) * 100, 2), 'False Rate %' : round(np.mean(falslist) * 100, 2)}\n",
    "                result = pd.DataFrame(dff, index = [0])\n",
    "    \n",
    "                if not os.path.isfile('./result/result.csv'):\n",
    "                    result.to_csv('./result/result.csv', index = False)\n",
    "                else:   \n",
    "                    result.to_csv('./result/result.csv', mode = 'a', header = False, index = False)\n",
    "\n",
    "\n",
    "print('to csv is ok!!')"
   ]
  },
  {
   "cell_type": "code",
   "execution_count": null,
   "metadata": {},
   "outputs": [],
   "source": []
  },
  {
   "cell_type": "code",
   "execution_count": null,
   "metadata": {},
   "outputs": [],
   "source": []
  }
 ],
 "metadata": {
  "kernelspec": {
   "display_name": "Python 3",
   "language": "python",
   "name": "python3"
  },
  "language_info": {
   "codemirror_mode": {
    "name": "ipython",
    "version": 3
   },
   "file_extension": ".py",
   "mimetype": "text/x-python",
   "name": "python",
   "nbconvert_exporter": "python",
   "pygments_lexer": "ipython3",
   "version": "3.6.7"
  },
  "toc": {
   "base_numbering": 1,
   "nav_menu": {},
   "number_sections": true,
   "sideBar": true,
   "skip_h1_title": false,
   "title_cell": "Table of Contents",
   "title_sidebar": "Contents",
   "toc_cell": false,
   "toc_position": {},
   "toc_section_display": true,
   "toc_window_display": false
  },
  "varInspector": {
   "cols": {
    "lenName": 16,
    "lenType": 16,
    "lenVar": 40
   },
   "kernels_config": {
    "python": {
     "delete_cmd_postfix": "",
     "delete_cmd_prefix": "del ",
     "library": "var_list.py",
     "varRefreshCmd": "print(var_dic_list())"
    },
    "r": {
     "delete_cmd_postfix": ") ",
     "delete_cmd_prefix": "rm(",
     "library": "var_list.r",
     "varRefreshCmd": "cat(var_dic_list()) "
    }
   },
   "types_to_exclude": [
    "module",
    "function",
    "builtin_function_or_method",
    "instance",
    "_Feature"
   ],
   "window_display": false
  }
 },
 "nbformat": 4,
 "nbformat_minor": 2
}
